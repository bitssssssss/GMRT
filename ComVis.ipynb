{
 "cells": [
  {
   "cell_type": "code",
   "execution_count": 54,
   "id": "8103d09f",
   "metadata": {},
   "outputs": [],
   "source": [
    "import cv2\n",
    "import numpy as np\n",
    "\n",
    "eye = cv2.imread(\"image.jpg\")\n",
    "\n",
    "\n",
    "gray = cv2.cvtColor(eye, cv2.COLOR_BGR2GRAY)\n",
    "img = cv2.medianBlur(gray, 5)\n",
    "\n",
    "cimg = cv2.cvtColor(img, cv2.COLOR_GRAY2BGR)\n",
    "\n",
    "h, w = img.shape\n",
    "minR = int(min(h, w) * 0.03)\n",
    "maxR = int(min(h, w) * 0.15)\n",
    "minDist = int(min(h, w) * 0.25)\n",
    "param = int(min(h, w) * 0.02)\n",
    "\n",
    "circles = cv2.HoughCircles(\n",
    "    img,\n",
    "    cv2.HOUGH_GRADIENT,\n",
    "    dp=1,\n",
    "    minDist=minDist,      \n",
    "    param1=100,      \n",
    "    param2=param,       \n",
    "    minRadius=minR,       \n",
    "    maxRadius=maxR\n",
    ")\n",
    "\n",
    "if circles is not None:\n",
    "    circles = np.uint16(np.around(circles))\n",
    "    for i in circles[0, :]:\n",
    "    \n",
    "        # outer circle\n",
    "        cv2.circle(eye, (i[0], i[1]), i[2], (0,255,0), 2)\n",
    "    \n",
    "        # center of the circle\n",
    "        cv2.circle(eye, (i[0], i[1]), 2, (0,255,0), 3)\n",
    "\n",
    "cv2.imshow('Detected Circle', eye)\n",
    "cv2.waitKey(0)\n",
    "cv2.destroyAllWindows()"
   ]
  },
  {
   "cell_type": "code",
   "execution_count": 55,
   "id": "cc5112e2",
   "metadata": {},
   "outputs": [
    {
     "ename": "error",
     "evalue": "OpenCV(4.11.0) D:\\a\\opencv-python\\opencv-python\\opencv\\modules\\highgui\\src\\window.cpp:868: error: (-215:Assertion failed) trackbar in function 'cv::getTrackbarPos'\n",
     "output_type": "error",
     "traceback": [
      "\u001b[1;31m---------------------------------------------------------------------------\u001b[0m",
      "\u001b[1;31merror\u001b[0m                                     Traceback (most recent call last)",
      "Cell \u001b[1;32mIn[55], line 10\u001b[0m, in \u001b[0;36mupdate\u001b[1;34m(val)\u001b[0m\n\u001b[0;32m      8\u001b[0m \u001b[38;5;28;01mdef\u001b[39;00m\u001b[38;5;250m \u001b[39m\u001b[38;5;21mupdate\u001b[39m(val):\n\u001b[0;32m      9\u001b[0m     minR \u001b[38;5;241m=\u001b[39m cv2\u001b[38;5;241m.\u001b[39mgetTrackbarPos(\u001b[38;5;124m'\u001b[39m\u001b[38;5;124mminR\u001b[39m\u001b[38;5;124m'\u001b[39m, \u001b[38;5;124m'\u001b[39m\u001b[38;5;124mDetected Circle\u001b[39m\u001b[38;5;124m'\u001b[39m)\n\u001b[1;32m---> 10\u001b[0m     maxR \u001b[38;5;241m=\u001b[39m \u001b[43mcv2\u001b[49m\u001b[38;5;241;43m.\u001b[39;49m\u001b[43mgetTrackbarPos\u001b[49m\u001b[43m(\u001b[49m\u001b[38;5;124;43m'\u001b[39;49m\u001b[38;5;124;43mmaxR\u001b[39;49m\u001b[38;5;124;43m'\u001b[39;49m\u001b[43m,\u001b[49m\u001b[43m \u001b[49m\u001b[38;5;124;43m'\u001b[39;49m\u001b[38;5;124;43mDetected Circle\u001b[39;49m\u001b[38;5;124;43m'\u001b[39;49m\u001b[43m)\u001b[49m\n\u001b[0;32m     11\u001b[0m     param2 \u001b[38;5;241m=\u001b[39m cv2\u001b[38;5;241m.\u001b[39mgetTrackbarPos(\u001b[38;5;124m'\u001b[39m\u001b[38;5;124mparam2\u001b[39m\u001b[38;5;124m'\u001b[39m, \u001b[38;5;124m'\u001b[39m\u001b[38;5;124mDetected Circle\u001b[39m\u001b[38;5;124m'\u001b[39m)\n\u001b[0;32m     13\u001b[0m     output \u001b[38;5;241m=\u001b[39m img\u001b[38;5;241m.\u001b[39mcopy()\n",
      "\u001b[1;31merror\u001b[0m: OpenCV(4.11.0) D:\\a\\opencv-python\\opencv-python\\opencv\\modules\\highgui\\src\\window.cpp:868: error: (-215:Assertion failed) trackbar in function 'cv::getTrackbarPos'\n"
     ]
    },
    {
     "ename": "error",
     "evalue": "OpenCV(4.11.0) D:\\a\\opencv-python\\opencv-python\\opencv\\modules\\highgui\\src\\window.cpp:868: error: (-215:Assertion failed) trackbar in function 'cv::getTrackbarPos'\n",
     "output_type": "error",
     "traceback": [
      "\u001b[1;31m---------------------------------------------------------------------------\u001b[0m",
      "\u001b[1;31merror\u001b[0m                                     Traceback (most recent call last)",
      "Cell \u001b[1;32mIn[55], line 11\u001b[0m, in \u001b[0;36mupdate\u001b[1;34m(val)\u001b[0m\n\u001b[0;32m      9\u001b[0m minR \u001b[38;5;241m=\u001b[39m cv2\u001b[38;5;241m.\u001b[39mgetTrackbarPos(\u001b[38;5;124m'\u001b[39m\u001b[38;5;124mminR\u001b[39m\u001b[38;5;124m'\u001b[39m, \u001b[38;5;124m'\u001b[39m\u001b[38;5;124mDetected Circle\u001b[39m\u001b[38;5;124m'\u001b[39m)\n\u001b[0;32m     10\u001b[0m maxR \u001b[38;5;241m=\u001b[39m cv2\u001b[38;5;241m.\u001b[39mgetTrackbarPos(\u001b[38;5;124m'\u001b[39m\u001b[38;5;124mmaxR\u001b[39m\u001b[38;5;124m'\u001b[39m, \u001b[38;5;124m'\u001b[39m\u001b[38;5;124mDetected Circle\u001b[39m\u001b[38;5;124m'\u001b[39m)\n\u001b[1;32m---> 11\u001b[0m param2 \u001b[38;5;241m=\u001b[39m \u001b[43mcv2\u001b[49m\u001b[38;5;241;43m.\u001b[39;49m\u001b[43mgetTrackbarPos\u001b[49m\u001b[43m(\u001b[49m\u001b[38;5;124;43m'\u001b[39;49m\u001b[38;5;124;43mparam2\u001b[39;49m\u001b[38;5;124;43m'\u001b[39;49m\u001b[43m,\u001b[49m\u001b[43m \u001b[49m\u001b[38;5;124;43m'\u001b[39;49m\u001b[38;5;124;43mDetected Circle\u001b[39;49m\u001b[38;5;124;43m'\u001b[39;49m\u001b[43m)\u001b[49m\n\u001b[0;32m     13\u001b[0m output \u001b[38;5;241m=\u001b[39m img\u001b[38;5;241m.\u001b[39mcopy()\n\u001b[0;32m     14\u001b[0m circles \u001b[38;5;241m=\u001b[39m cv2\u001b[38;5;241m.\u001b[39mHoughCircles(gray, cv2\u001b[38;5;241m.\u001b[39mHOUGH_GRADIENT, \u001b[38;5;241m1\u001b[39m, \u001b[38;5;241m100\u001b[39m, param1\u001b[38;5;241m=\u001b[39m\u001b[38;5;241m100\u001b[39m, param2\u001b[38;5;241m=\u001b[39mparam2, minRadius\u001b[38;5;241m=\u001b[39mminR, maxRadius\u001b[38;5;241m=\u001b[39mmaxR)\n",
      "\u001b[1;31merror\u001b[0m: OpenCV(4.11.0) D:\\a\\opencv-python\\opencv-python\\opencv\\modules\\highgui\\src\\window.cpp:868: error: (-215:Assertion failed) trackbar in function 'cv::getTrackbarPos'\n"
     ]
    }
   ],
   "source": [
    "import cv2\n",
    "import numpy as np\n",
    "\n",
    "img = cv2.imread(\"3.jpg\")\n",
    "gray = cv2.cvtColor(img, cv2.COLOR_BGR2GRAY)\n",
    "gray = cv2.medianBlur(gray, 5)\n",
    "\n",
    "def update(val):\n",
    "    minR = cv2.getTrackbarPos('minR', 'Detected Circle')\n",
    "    maxR = cv2.getTrackbarPos('maxR', 'Detected Circle')\n",
    "    param2 = cv2.getTrackbarPos('param2', 'Detected Circle')\n",
    "\n",
    "    output = img.copy()\n",
    "    circles = cv2.HoughCircles(gray, cv2.HOUGH_GRADIENT, 1, 100, param1=100, param2=param2, minRadius=minR, maxRadius=maxR)\n",
    "\n",
    "    if circles is not None:\n",
    "        circles = np.uint16(np.around(circles))\n",
    "        for (x, y, r) in circles[0, :]:\n",
    "            cv2.circle(output, (x, y), r, (0, 255, 0), 2)\n",
    "            cv2.circle(output, (x, y), 2, (0, 0, 255), 3)\n",
    "    cv2.imshow('Detected Circle', output)\n",
    "\n",
    "cv2.namedWindow('Detected Circle')\n",
    "cv2.createTrackbar('minR', 'Detected Circle', 20, 100, update)\n",
    "cv2.createTrackbar('maxR', 'Detected Circle', 60, 150, update)\n",
    "cv2.createTrackbar('param2', 'Detected Circle', 40, 100, update)\n",
    "update(0)\n",
    "cv2.waitKey(0)\n",
    "cv2.destroyAllWindows()\n"
   ]
  },
  {
   "cell_type": "code",
   "execution_count": 59,
   "id": "8391e3f4",
   "metadata": {},
   "outputs": [
    {
     "name": "stdout",
     "output_type": "stream",
     "text": [
      "Successfully Created Image!\n"
     ]
    },
    {
     "data": {
      "text/plain": [
       "-1"
      ]
     },
     "execution_count": 59,
     "metadata": {},
     "output_type": "execute_result"
    }
   ],
   "source": [
    "# Import Libraries. \n",
    "import cv2 \n",
    "import numpy as np \n",
    " \n",
    "# Reading the image.\n",
    "image = cv2.imread('2.jpg', cv2.IMREAD_COLOR) \n",
    "\n",
    "# Converting the image into grayscale.\n",
    "gray = cv2.cvtColor(image, cv2.COLOR_BGR2GRAY) \n",
    "  \n",
    "# Now blur the grayscale image using Gaussian Blur.\n",
    "gray_blurred = cv2.GaussianBlur(gray, (21,21), cv2.IMREAD_UNCHANGED) \n",
    "  \n",
    "\n",
    "# Using Hough Gradient method to detect circles.\n",
    "detected_circles = cv2.HoughCircles(gray_blurred, cv2.HOUGH_GRADIENT, 1.5, 100, param1=None,\n",
    "                                    param2=None, minRadius=None, maxRadius=250) \n",
    "\n",
    " \n",
    " # Creating 'xcord', 'ycord', and 'rad' lists to store the X, Y, co-ordinates and radius of detected circles.\n",
    "xcord = []\n",
    "ycord = []\n",
    "rad = []\n",
    "i = 0\n",
    "\n",
    "\n",
    "if detected_circles is not None: \n",
    "    \n",
    "    # Creating an integer array to read co-ordinates.\n",
    "    detected_circles = np.round(detected_circles[0, :]).astype('int') \n",
    "    \n",
    "    # Appending co-ordinates to their corresponding lists.\n",
    "    for (x, y, r) in detected_circles:\n",
    "        #Printing the values of X, Y cordinates and Radius of the detected circle.\n",
    "        print('x-cord: ' + str(x) + ' y-cord: ' + str(y) + ' rad: '+ str(r))\n",
    "        xcord.append(x)\n",
    "        ycord.append(y)\n",
    "        rad.append(r)\n",
    "        \n",
    "        # Drawing a circle\n",
    "        # cv2.circle(source, (x-cord, ycord), radius, color in BGR format, thickness)       \n",
    "        cv2.circle(image, (x, y), r, (255, 0, 0), 5)        \n",
    "        cv2.circle(image, (x, y), 5, (255, 255, 255), 5) \n",
    " \n",
    "    # To iterate through all centers and draw lines to connect all centers of detected circles.    \n",
    "    for i in range(len(xcord)-1):\n",
    "      for j in range(1,len(xcord)):\n",
    "          cv2.line(image, (xcord[i],ycord[i]), (xcord[j],ycord[j]), (0,0,0), 5)\n",
    "\n",
    "\n",
    "# Storing the image.          \n",
    "cv2.imwrite(\"Detected_Circle3.jpg\", image) \n",
    "cv2.imshow('Detected Circle', image)\n",
    "\n",
    "print(\"Successfully Created Image!\")\n",
    "cv2.waitKey(0) \n",
    "\n",
    "\n"
   ]
  }
 ],
 "metadata": {
  "kernelspec": {
   "display_name": "Python 3",
   "language": "python",
   "name": "python3"
  },
  "language_info": {
   "codemirror_mode": {
    "name": "ipython",
    "version": 3
   },
   "file_extension": ".py",
   "mimetype": "text/x-python",
   "name": "python",
   "nbconvert_exporter": "python",
   "pygments_lexer": "ipython3",
   "version": "3.10.0"
  }
 },
 "nbformat": 4,
 "nbformat_minor": 5
}
